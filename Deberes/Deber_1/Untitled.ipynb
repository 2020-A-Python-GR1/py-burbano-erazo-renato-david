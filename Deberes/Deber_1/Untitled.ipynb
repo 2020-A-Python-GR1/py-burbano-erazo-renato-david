{
 "cells": [
  {
   "cell_type": "code",
   "execution_count": 7,
   "metadata": {},
   "outputs": [],
   "source": [
    "from os import system\n",
    "import time"
   ]
  },
  {
   "cell_type": "code",
   "execution_count": 6,
   "metadata": {},
   "outputs": [],
   "source": [
    "class Videojuego:\n",
    "    nombre = None\n",
    "    fecha_lanzamiento = None\n",
    "    precio = 0.0\n",
    "    disponible = False\n",
    "    plataformas = []\n",
    "    \n",
    "    def __init__(self,nombre,fecha_lanzamiento,precio,disponible,plataformas=[]):\n",
    "        self.nombre = nombre\n",
    "        self.fecha_lanzamiento = fecha_lanzamiento\n",
    "        self.precio = precio\n",
    "        self.disponible = disponible\n"
   ]
  },
  {
   "cell_type": "code",
   "execution_count": 5,
   "metadata": {},
   "outputs": [],
   "source": [
    "class Genero:\n",
    "    nombre = None\n",
    "    popularidad = None\n",
    "    videojuegos = []\n",
    "    \n",
    "    def __init__(self, nombre, popularidad, videojuegoseojuegos=[]): # self = this  Constructor\n",
    "        self.nombre = nombre\n",
    "        self.popularidad = popularidad"
   ]
  },
  {
   "cell_type": "code",
   "execution_count": 31,
   "metadata": {},
   "outputs": [],
   "source": [
    "def agregar_genero():\n",
    "    try:\n",
    "        path = \"./generos.txt\"\n",
    "        archivo_abierto = open(path,'a')\n",
    "        nuevo_Genero = Genero(input(\"Nombre del Género: \"), input(\"Qué tan popular es: \"))\n",
    "        archivo_abierto.write(f\"{nuevo_Genero.nombre};{nuevo_Genero.popularidad};{nuevo_Genero.videojuegos}\\n\")\n",
    "        archivo_abierto.close()\n",
    "    except Exception as error:\n",
    "        print(error)"
   ]
  },
  {
   "cell_type": "code",
   "execution_count": 40,
   "metadata": {},
   "outputs": [],
   "source": [
    "def videojuego_genero(genero,nombre):\n",
    "    try:\n",
    "        path = \"./generos.txt\"\n",
    "        lectura = open(path,'r')\n",
    "        lineas = lectura.readlines()\n",
    "        lectura.close()\n",
    "        valor = 0\n",
    "        for linea in lineas:\n",
    "            palabras = linea.split(\";\")\n",
    "            for palabra in palabras:\n",
    "                if palabra == genero:\n",
    "                    valor = lineas.index(linea)\n",
    "                    break\n",
    "        escritura = open(path,'w')\n",
    "        lineas[valor] = lineas[valor][:-2]+f\" {nombre}]\\n\"\n",
    "        escritura.writelines(lineas)\n",
    "        escritura.close()\n",
    "    except Exception as error:\n",
    "        print(error)"
   ]
  },
  {
   "cell_type": "code",
   "execution_count": 16,
   "metadata": {},
   "outputs": [],
   "source": [
    "def agregar_videojuego():\n",
    "    try:\n",
    "        path = \"./videojuegos.txt\"\n",
    "        archivo_abierto = open(path,'a')\n",
    "        nuevo_Videojuego = Videojuego(input(\"Ingrese el nombre: \"),input(\"Ingrese la fecha: \")\n",
    "                                      ,float(input(\"Ingrese el precio: \")),bool(input(\"Disponible: \")))\n",
    "        archivo_abierto.write(f\"{nuevo_Videojuego.nombre};{nuevo_Videojuego.fecha_lanzamiento};{nuevo_Videojuego.precio};{nuevo_Videojuego.disponible}\\n\")\n",
    "        archivo_abierto.close()\n",
    "    except Exception as error:\n",
    "        print(error)\n",
    "    genero = input(\"A qué categoria pertenece: \")\n",
    "    videojuego_genero(genero,nuevo_Videojuego.nombre)"
   ]
  },
  {
   "cell_type": "code",
   "execution_count": 44,
   "metadata": {},
   "outputs": [
    {
     "name": "stdout",
     "output_type": "stream",
     "text": [
      "Bienvenido a mi programa\n",
      "1. Genero\n",
      "2. Videojuego\n",
      "Elija una Opcion: 2\n",
      "Este es el menu de Videojuego\n",
      "1. Agregar nuevo Videojuego\n",
      "2. Modificar Videojuego\n",
      "3. Eliminar Videojuego\n",
      "Elija una Opcion: 1\n",
      "Agregar nuevo Videojuego\n",
      "Ingrese el nombre: Halo\n",
      "Ingrese la fecha: 2012\n",
      "Ingrese el precio: 29\n",
      "Disponible: True\n",
      "A qué categoria pertenece: Accion\n"
     ]
    },
    {
     "data": {
      "text/plain": [
       "0"
      ]
     },
     "execution_count": 44,
     "metadata": {},
     "output_type": "execute_result"
    }
   ],
   "source": [
    "print(\"Bienvenido a mi programa\")\n",
    "print(\"1. Genero\")\n",
    "print(\"2. Videojuego\")\n",
    "opcion = int(input(\"Elija una Opcion: \"))\n",
    "if opcion == 1:\n",
    "    print(\"Este es el menu de Genero\")\n",
    "    print(\"1. Agregar nuevo Genero\")\n",
    "    print(\"2. Modificar Genero\")\n",
    "    print(\"3. Eliminar Genero\")\n",
    "    opcion2 = int(input(\"Elija una Opcion: \"))\n",
    "    if opcion2 == 1:\n",
    "        print(\"Agregar nuevo Genero\")\n",
    "        agregar_genero()\n",
    "    elif opcion2 == 2:\n",
    "        print(\"Modificar un Genero\")\n",
    "    elif opcion2 == 3:\n",
    "        print(\"Eliminar un Genero\")\n",
    "\n",
    "elif opcion == 2:\n",
    "    print(\"Este es el menu de Videojuego\")\n",
    "    print(\"1. Agregar nuevo Videojuego\")\n",
    "    print(\"2. Modificar Videojuego\")\n",
    "    print(\"3. Eliminar Videojuego\")\n",
    "    opcion2 = int(input(\"Elija una Opcion: \"))\n",
    "    if opcion2 == 1:\n",
    "        print(\"Agregar nuevo Videojuego\")\n",
    "        agregar_videojuego()\n",
    "    elif opcion2 == 2:\n",
    "        print(\"Modificar un Videojuego\")\n",
    "    elif opcion2 == 3:\n",
    "        print(\"Eliminar un Videojuego\")\n",
    "\n",
    "time.sleep(5)\n",
    "system(\"cls\")\n"
   ]
  }
 ],
 "metadata": {
  "kernelspec": {
   "display_name": "Python 3",
   "language": "python",
   "name": "python3"
  },
  "language_info": {
   "codemirror_mode": {
    "name": "ipython",
    "version": 3
   },
   "file_extension": ".py",
   "mimetype": "text/x-python",
   "name": "python",
   "nbconvert_exporter": "python",
   "pygments_lexer": "ipython3",
   "version": "3.7.6"
  }
 },
 "nbformat": 4,
 "nbformat_minor": 4
}
