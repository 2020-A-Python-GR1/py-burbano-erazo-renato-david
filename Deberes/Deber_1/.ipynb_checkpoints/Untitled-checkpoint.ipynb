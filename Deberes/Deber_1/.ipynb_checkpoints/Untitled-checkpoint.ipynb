{
 "cells": [
  {
   "cell_type": "code",
   "execution_count": 10,
   "metadata": {},
   "outputs": [],
   "source": [
    "from os import system\n",
    "import time"
   ]
  },
  {
   "cell_type": "code",
   "execution_count": 2,
   "metadata": {},
   "outputs": [],
   "source": [
    "class Videojuego:\n",
    "    nombre = None\n",
    "    fecha_lanzamiento = None\n",
    "    precio = 0.0\n",
    "    disponible = False\n",
    "    plataformas = []\n",
    "    \n",
    "    def __init__(self,nombre,fecha_lanzamiento,precio,disponible,plataformas):\n",
    "        self.nombre = nombre\n",
    "        self.fecha_lanzamiento = fecha_lanzamiento\n",
    "        self.precio = precio\n",
    "        self.disponible = disponible\n",
    "        self.plataformas = plataformas"
   ]
  },
  {
   "cell_type": "code",
   "execution_count": 17,
   "metadata": {},
   "outputs": [],
   "source": [
    "class Genero:\n",
    "    nombre = None\n",
    "    popularidad = None\n",
    "    videojuegos = []\n",
    "    \n",
    "    def __init__(self, nombre, popularidad): # self = this  Constructor\n",
    "        self.nombre = nombre\n",
    "        self.popularidad = popularidad"
   ]
  },
  {
   "cell_type": "code",
   "execution_count": 26,
   "metadata": {},
   "outputs": [],
   "source": [
    "def agregar_genero():\n",
    "    try:\n",
    "        path = \"./generos.txt\"\n",
    "        archivo_abierto = open(path,'a')\n",
    "        nuevo_Genero = Genero(input(\"Nombre del Género: \"), input(\"Qué tan popular es: \"))\n",
    "        archivo_abierto.write(f\"{nuevo_Genero.nombre};{nuevo_Genero.popularidad}\")\n",
    "        archivo_abierto.close()\n",
    "    except Exception as error:\n",
    "        print(error)"
   ]
  },
  {
   "cell_type": "code",
   "execution_count": 28,
   "metadata": {},
   "outputs": [
    {
     "name": "stdout",
     "output_type": "stream",
     "text": [
      "Bienvenido a mi programa\n",
      "1. Genero\n",
      "2. Videojuego\n",
      "Elija una Opcion: 1\n",
      "Este es el menu de Genero\n",
      "1. Agregar nuevo Genero\n",
      "2. Modificar Genero\n",
      "3. Eliminar Genero\n",
      "Elija una Opcion: 1\n",
      "Agregar nuevo Genero\n"
     ]
    },
    {
     "data": {
      "text/plain": [
       "0"
      ]
     },
     "execution_count": 28,
     "metadata": {},
     "output_type": "execute_result"
    }
   ],
   "source": [
    "print(\"Bienvenido a mi programa\")\n",
    "print(\"1. Genero\")\n",
    "print(\"2. Videojuego\")\n",
    "opcion = int(input(\"Elija una Opcion: \"))\n",
    "if opcion == 1:\n",
    "    print(\"Este es el menu de Genero\")\n",
    "    print(\"1. Agregar nuevo Genero\")\n",
    "    print(\"2. Modificar Genero\")\n",
    "    print(\"3. Eliminar Genero\")\n",
    "    opcion2 = int(input(\"Elija una Opcion: \"))\n",
    "    if opcion2 == 1:\n",
    "        print(\"Agregar nuevo Genero\")\n",
    "        agregar_genero()\n",
    "    elif opcion2 == 2:\n",
    "        print(\"Modificar un Genero\")\n",
    "    elif opcion2 == 3:\n",
    "        print(\"Eliminar un Genero\")\n",
    "\n",
    "elif opcion == 2:\n",
    "    print(\"Este es el menu de Videojuego\")\n",
    "    print(\"1. Agregar nuevo Videojuego\")\n",
    "    print(\"2. Modificar Videojuego\")\n",
    "    print(\"3. Eliminar Videojuego\")\n",
    "    opcion2 = int(input(\"Elija una Opcion: \"))\n",
    "    if opcion2 == 1:\n",
    "        print(\"Agregar nuevo Videojuego\")\n",
    "    elif opcion2 == 2:\n",
    "        print(\"Modificar un Videojuego\")\n",
    "    elif opcion2 == 3:\n",
    "        print(\"Eliminar un Videojuego\")\n",
    "\n",
    "time.sleep(5)\n",
    "system(\"cls\")\n"
   ]
  },
  {
   "cell_type": "code",
   "execution_count": 22,
   "metadata": {},
   "outputs": [
    {
     "ename": "SyntaxError",
     "evalue": "invalid syntax (<ipython-input-22-98548ffb211a>, line 3)",
     "output_type": "error",
     "traceback": [
      "\u001b[1;36m  File \u001b[1;32m\"<ipython-input-22-98548ffb211a>\"\u001b[1;36m, line \u001b[1;32m3\u001b[0m\n\u001b[1;33m    except Exception as error:\u001b[0m\n\u001b[1;37m         ^\u001b[0m\n\u001b[1;31mSyntaxError\u001b[0m\u001b[1;31m:\u001b[0m invalid syntax\n"
     ]
    }
   ],
   "source": []
  },
  {
   "cell_type": "code",
   "execution_count": null,
   "metadata": {},
   "outputs": [],
   "source": []
  }
 ],
 "metadata": {
  "kernelspec": {
   "display_name": "Python 3",
   "language": "python",
   "name": "python3"
  },
  "language_info": {
   "codemirror_mode": {
    "name": "ipython",
    "version": 3
   },
   "file_extension": ".py",
   "mimetype": "text/x-python",
   "name": "python",
   "nbconvert_exporter": "python",
   "pygments_lexer": "ipython3",
   "version": "3.7.6"
  }
 },
 "nbformat": 4,
 "nbformat_minor": 4
}
