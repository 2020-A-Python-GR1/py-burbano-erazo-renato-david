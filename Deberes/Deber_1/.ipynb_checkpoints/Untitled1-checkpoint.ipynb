{
 "cells": [
  {
   "cell_type": "code",
   "execution_count": 5,
   "metadata": {},
   "outputs": [
    {
     "name": "stdout",
     "output_type": "stream",
     "text": [
      "Nombre del Género: Terror\n"
     ]
    }
   ],
   "source": [
    "try:\n",
    "    path = \"./prueba.txt\"\n",
    "    archivo_abierto = open(path,'a')\n",
    "    nuevo_Genero = input(\"Nombre del Género: \")\n",
    "    archivo_abierto.write(f\"{nuevo_Genero}\\n\")\n",
    "    archivo_abierto.close()\n",
    "except Exception as error:\n",
    "    print(error)\n",
    "        \n"
   ]
  },
  {
   "cell_type": "code",
   "execution_count": 100,
   "metadata": {},
   "outputs": [
    {
     "name": "stdout",
     "output_type": "stream",
     "text": [
      "list index out of range\n"
     ]
    }
   ],
   "source": [
    "try:\n",
    "    path = \"./prueba.txt\"\n",
    "    archivo_abierto = open(path,'w')\n",
    "    lineas = archivo_abierto.readlines()\n",
    "    lineas[1] = lineas[1][:-2]+\" Nuevo]\\n\"\n",
    "    print(lineas[1][:-1])\n",
    "    print(lineas)\n",
    "    #for linea in lineas:\n",
    "        #print(linea.index('Accion'))\n",
    "        #if linea == \"Accion\":\n",
    "         #   lineas[linea.index]\n",
    "    archivo_abierto.writelines(lineas)\n",
    "    archivo_abierto.close()\n",
    "except Exception as error:\n",
    "    print(error)"
   ]
  },
  {
   "cell_type": "code",
   "execution_count": null,
   "metadata": {},
   "outputs": [],
   "source": []
  }
 ],
 "metadata": {
  "kernelspec": {
   "display_name": "Python 3",
   "language": "python",
   "name": "python3"
  },
  "language_info": {
   "codemirror_mode": {
    "name": "ipython",
    "version": 3
   },
   "file_extension": ".py",
   "mimetype": "text/x-python",
   "name": "python",
   "nbconvert_exporter": "python",
   "pygments_lexer": "ipython3",
   "version": "3.7.6"
  }
 },
 "nbformat": 4,
 "nbformat_minor": 4
}
