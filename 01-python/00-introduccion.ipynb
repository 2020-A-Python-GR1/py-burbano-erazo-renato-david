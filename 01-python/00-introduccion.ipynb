{
 "cells": [
  {
   "cell_type": "code",
   "execution_count": 1,
   "metadata": {},
   "outputs": [
    {
     "name": "stderr",
     "output_type": "stream",
     "text": [
      "\"[alt\" no se reconoce como un comando interno o externo,\n",
      "programa o archivo por lotes ejecutable.\n"
     ]
    }
   ],
   "source": [
    "![alt text](https://github.com/adam-p/markdown-here/raw/master/src/common/images/icon48.png \"Logo Title Text 1\")"
   ]
  },
  {
   "cell_type": "code",
   "execution_count": 4,
   "metadata": {},
   "outputs": [
    {
     "name": "stdout",
     "output_type": "stream",
     "text": [
      "<class 'int'>\n",
      "<class 'float'>\n",
      "<class 'str'>\n",
      "<class 'str'>\n",
      "<class 'bool'>\n",
      "<class 'bool'>\n",
      "<class 'NoneType'>\n"
     ]
    }
   ],
   "source": [
    "# No tipado!\n",
    "# Variables Primitivas\n",
    "entero = 4\n",
    "decimal = 1.1\n",
    "nombre = \"Adrian\"\n",
    "segundo_nombre = \"Vicente\" #segundoNombre x -> MAl\n",
    "casado = False\n",
    "soltero = True\n",
    "hijos = None #Vacío\n",
    "print(type(entero)) #int\n",
    "print(type(decimal)) #float\n",
    "print(type(nombre)) #str\n",
    "print(type(segundo_nombre)) #str\n",
    "print(type(casado)) #bool\n",
    "print(type(soltero)) #bool\n",
    "print(type(hijos)) #NoneType"
   ]
  },
  {
   "cell_type": "code",
   "execution_count": 5,
   "metadata": {},
   "outputs": [
    {
     "name": "stdout",
     "output_type": "stream",
     "text": [
      "Un texto es una composición de signos codificados en un sistema de escritura\n",
      "    que forma una unidad de sentido. También es una composición de caracteres imprimibles generados\n",
      "    por un algoritmo de cifrado que, aunque no tienen sentido para cualquier persona, sí puede ser \n",
      "    descifrado por su destinatario original\n"
     ]
    }
   ],
   "source": [
    "cadena_de_texto = \"\"\"Un texto es una composición de signos codificados en un sistema de escritura\n",
    "    que forma una unidad de sentido. También es una composición de caracteres imprimibles generados\n",
    "    por un algoritmo de cifrado que, aunque no tienen sentido para cualquier persona, sí puede ser \n",
    "    descifrado por su destinatario original\"\"\"\n",
    "\n",
    "print(cadena_de_texto)"
   ]
  },
  {
   "cell_type": "code",
   "execution_count": 6,
   "metadata": {},
   "outputs": [
    {
     "name": "stdout",
     "output_type": "stream",
     "text": [
      "4\n",
      "Adrian\n"
     ]
    }
   ],
   "source": [
    "print(entero)\n",
    "entero = decimal\n",
    "entero = hijos\n",
    "entero = casado\n",
    "entero = nombre\n",
    "print(entero)"
   ]
  },
  {
   "cell_type": "code",
   "execution_count": 8,
   "metadata": {},
   "outputs": [
    {
     "name": "stdout",
     "output_type": "stream",
     "text": [
      "Truty\n"
     ]
    }
   ],
   "source": [
    "# Condiciones\n",
    "# Truty - Falsy\n",
    "tuplas = (1,2,3) #Arreglos que no se pueden modificar\n",
    "lists = [4,5,5] #Arreglos que se pueden modificar\n",
    "diccionario = {\n",
    "    \"nombre\" : \"Adrian\"\n",
    "}\n",
    "\n",
    "if('Adrian'):\n",
    "    # ...\n",
    "    print('Truty')\n",
    "    # ...\n",
    "else:\n",
    "    # ...\n",
    "    print('Falsy')\n",
    "    # ...\n"
   ]
  },
  {
   "cell_type": "code",
   "execution_count": null,
   "metadata": {},
   "outputs": [],
   "source": []
  }
 ],
 "metadata": {
  "kernelspec": {
   "display_name": "Python 3",
   "language": "python",
   "name": "python3"
  },
  "language_info": {
   "codemirror_mode": {
    "name": "ipython",
    "version": 3
   },
   "file_extension": ".py",
   "mimetype": "text/x-python",
   "name": "python",
   "nbconvert_exporter": "python",
   "pygments_lexer": "ipython3",
   "version": "3.7.6"
  }
 },
 "nbformat": 4,
 "nbformat_minor": 4
}
