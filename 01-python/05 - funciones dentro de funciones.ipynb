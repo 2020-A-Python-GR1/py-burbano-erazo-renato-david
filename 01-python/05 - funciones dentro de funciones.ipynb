{
 "cells": [
  {
   "cell_type": "code",
   "execution_count": 4,
   "metadata": {},
   "outputs": [
    {
     "data": {
      "text/plain": [
       "-2"
      ]
     },
     "execution_count": 4,
     "metadata": {},
     "output_type": "execute_result"
    }
   ],
   "source": [
    "def calculadora(numero_uno, numero_dos, operacion=\"suma\"):\n",
    "    def suma():\n",
    "        return numero_uno+numero_dos\n",
    "    def resta():\n",
    "        return numero_uno-numero_dos\n",
    "    def multiplicacion():\n",
    "        return numero_uno*numero_dos\n",
    "    def division():\n",
    "        return numero_uno/numero_dos\n",
    "    \n",
    "    def devolver_respuesta():\n",
    "        opciones ={\n",
    "            \"suma\": suma,                 # Sin () es la definición de la función\n",
    "            \"resta\": resta,\n",
    "            \"multiplicacion\": multiplicacion,\n",
    "            \"divisioni\": division\n",
    "        }\n",
    "        return opciones [operacion]()     # Utilizar () para la ejecución de la función\n",
    "    \n",
    "    return devolver_respuesta()\n",
    "\n",
    "calculadora(2,4,\"resta\")"
   ]
  },
  {
   "cell_type": "code",
   "execution_count": 1,
   "metadata": {},
   "outputs": [
    {
     "name": "stdout",
     "output_type": "stream",
     "text": [
      "Dime tu edad19\n",
      "19\n",
      "<class 'str'>\n"
     ]
    }
   ],
   "source": [
    "edad = input(\"Dime tu edad\")\n",
    "print(edad) # 31\n",
    "print(type(edad)) # str"
   ]
  },
  {
   "cell_type": "code",
   "execution_count": 8,
   "metadata": {},
   "outputs": [
    {
     "name": "stdout",
     "output_type": "stream",
     "text": [
      "[5, 6, 7]\n"
     ]
    }
   ],
   "source": [
    "arregloNumeros = [1, 2, 3, 4, 5, 6, 7, 8, 9]\n",
    "print(arregloNumeros[-5:-2])"
   ]
  }
 ],
 "metadata": {
  "kernelspec": {
   "display_name": "Python 3",
   "language": "python",
   "name": "python3"
  },
  "language_info": {
   "codemirror_mode": {
    "name": "ipython",
    "version": 3
   },
   "file_extension": ".py",
   "mimetype": "text/x-python",
   "name": "python",
   "nbconvert_exporter": "python",
   "pygments_lexer": "ipython3",
   "version": "3.7.6"
  }
 },
 "nbformat": 4,
 "nbformat_minor": 4
}
