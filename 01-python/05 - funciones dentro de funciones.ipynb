{
 "cells": [
  {
   "cell_type": "code",
   "execution_count": 6,
   "metadata": {},
   "outputs": [
    {
     "data": {
      "text/plain": [
       "-2"
      ]
     },
     "execution_count": 6,
     "metadata": {},
     "output_type": "execute_result"
    }
   ],
   "source": [
    "def calculadora(numero_uno, numero_dos, operacion=\"suma\"):\n",
    "    def suma():\n",
    "        return numero_uno+numero_dos\n",
    "    def resta():\n",
    "        return numero_uno-numero_dos\n",
    "    def multiplicacion():\n",
    "        return numero_uno*numero_dos\n",
    "    def division():\n",
    "        return numero_uno/numero_dos\n",
    "    \n",
    "    def devolver_respuesta():\n",
    "        opciones ={\n",
    "            \"suma\": suma,                 # Sin () es la definición de la función\n",
    "            \"resta\": resta,\n",
    "            \"multiplicacion\": multiplicacion,\n",
    "            \"divisioni\": division\n",
    "        }\n",
    "        return opciones [operacion]()     # Utilizar () para la ejecución de la función\n",
    "    \n",
    "    return devolver_respuesta()\n",
    "\n",
    "calculadora(2,4,\"resta\")"
   ]
  },
  {
   "cell_type": "code",
   "execution_count": 1,
   "metadata": {},
   "outputs": [
    {
     "name": "stdout",
     "output_type": "stream",
     "text": [
      "Dime tu edad19\n",
      "19\n",
      "<class 'str'>\n"
     ]
    }
   ],
   "source": [
    "edad = input(\"Dime tu edad\")\n",
    "print(edad) # 31\n",
    "print(type(edad)) # str"
   ]
  },
  {
   "cell_type": "code",
   "execution_count": null,
   "metadata": {},
   "outputs": [],
   "source": []
  }
 ],
 "metadata": {
  "kernelspec": {
   "display_name": "Python 3",
   "language": "python",
   "name": "python3"
  },
  "language_info": {
   "codemirror_mode": {
    "name": "ipython",
    "version": 3
   },
   "file_extension": ".py",
   "mimetype": "text/x-python",
   "name": "python",
   "nbconvert_exporter": "python",
   "pygments_lexer": "ipython3",
   "version": "3.7.6"
  }
 },
 "nbformat": 4,
 "nbformat_minor": 4
}
